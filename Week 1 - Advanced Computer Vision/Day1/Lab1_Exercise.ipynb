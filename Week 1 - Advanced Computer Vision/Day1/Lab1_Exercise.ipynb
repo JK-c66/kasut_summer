{
  "cells": [
    {
      "cell_type": "markdown",
      "metadata": {
        "id": "view-in-github",
        "colab_type": "text"
      },
      "source": [
        "<a href=\"https://colab.research.google.com/github/JK-c66/kasut_summer/blob/main/Week%201%20-%20Advanced%20Computer%20Vision/Day1/Lab1_Exercise.ipynb\" target=\"_parent\"><img src=\"https://colab.research.google.com/assets/colab-badge.svg\" alt=\"Open In Colab\"/></a>"
      ]
    },
    {
      "cell_type": "markdown",
      "metadata": {
        "id": "_97OhThtacnE"
      },
      "source": [
        "### Action Recognition in Video Sequences using Deep Bi-directional LSTM with CNN Features\n",
        "\n",
        "This Notebooks extracts features from videos in the YouTube Dataset using a pre-trained ResNet18 model. The extracted features can be used for training and testing LSTM models to perform action recognition.\n",
        "\n",
        "We will be using the YouTube Dataset from the following link: https://www.crcv.ucf.edu/data/UCF_YouTube_Action.php\n",
        "\n",
        "\n",
        "Paper: https://ieeexplore.ieee.org/stamp/stamp.jsp?tp=&arnumber=8121994"
      ]
    },
    {
      "cell_type": "code",
      "execution_count": 1,
      "metadata": {
        "id": "gfQivLg1DqHQ"
      },
      "outputs": [],
      "source": [
        "# Importing the required libraries\n",
        "import torch\n",
        "import torch.nn as nn\n",
        "import torch.optim as optim\n",
        "import torchvision.transforms as transforms\n",
        "import torchvision.models as models\n",
        "import os\n",
        "import numpy as np\n",
        "import cv2\n",
        "from sklearn.preprocessing import LabelEncoder\n",
        "import matplotlib.pyplot as plt\n",
        "import requests, zipfile, os"
      ]
    },
    {
      "cell_type": "code",
      "execution_count": 2,
      "metadata": {
        "colab": {
          "base_uri": "https://localhost:8080/"
        },
        "id": "jOB9yCM7rp1-",
        "outputId": "c869859f-176b-4400-8dfd-0c5d9197fc23"
      },
      "outputs": [
        {
          "output_type": "stream",
          "name": "stderr",
          "text": [
            "/usr/local/lib/python3.10/dist-packages/urllib3/connectionpool.py:1100: InsecureRequestWarning: Unverified HTTPS request is being made to host 'www.crcv.ucf.edu'. Adding certificate verification is strongly advised. See: https://urllib3.readthedocs.io/en/latest/advanced-usage.html#tls-warnings\n",
            "  warnings.warn(\n"
          ]
        },
        {
          "output_type": "stream",
          "name": "stdout",
          "text": [
            "Download and extraction completed!\n"
          ]
        }
      ],
      "source": [
        "# Download and extract the dataset\n",
        "dataset_url = \"https://www.crcv.ucf.edu/data/YouTube_DataSet_Annotated.zip\"\n",
        "zip_file_path = \"YouTube_DataSet_Annotated.zip\"\n",
        "extract_dir = \"YouTube_DataSet_Annotated\"\n",
        "\n",
        "# Download dataset\n",
        "with open(zip_file_path, 'wb') as f:\n",
        "    f.write(requests.get(dataset_url, verify=False).content)\n",
        "\n",
        "# Extract contents\n",
        "with zipfile.ZipFile(zip_file_path, 'r') as zip_ref:\n",
        "    zip_ref.extractall(extract_dir)\n",
        "\n",
        "os.remove(zip_file_path)  # Remove zip file\n",
        "print(\"Download and extraction completed!\")\n",
        "\n",
        "data_dir = extract_dir + \"/action_youtube_naudio\"\n",
        "\n",
        "if os.path.exists(data_dir + '/readme.txt'):\n",
        "    os.remove(os.path.join(data_dir, 'readme.txt'))"
      ]
    },
    {
      "cell_type": "code",
      "execution_count": 3,
      "metadata": {
        "id": "HQu_gcEREEsh"
      },
      "outputs": [],
      "source": [
        "# Define the number of frames to extract from each video\n",
        "num_frames = 15"
      ]
    },
    {
      "cell_type": "code",
      "execution_count": 4,
      "metadata": {
        "id": "sF7oOUHDEFo5"
      },
      "outputs": [],
      "source": [
        "#TODO: Complete the definition of the transform to be applied on each frame\n",
        "transform = transforms.Compose([\n",
        "    transforms.ToPILImage(),\n",
        "    transforms.Resize((224, 224)),\n",
        "    transforms.ToTensor(),\n",
        "    transforms.Normalize(mean=[0.485, 0.456, 0.406], std=[0.229, 0.224, 0.225])\n",
        "    ])"
      ]
    },
    {
      "cell_type": "code",
      "execution_count": 5,
      "metadata": {
        "colab": {
          "base_uri": "https://localhost:8080/"
        },
        "id": "-FXvc-zfrp2A",
        "outputId": "d86db5b8-36fe-4f5f-e8ac-324f4f27262c"
      },
      "outputs": [
        {
          "output_type": "stream",
          "name": "stdout",
          "text": [
            "cuda\n"
          ]
        }
      ],
      "source": [
        "device = torch.device(\"cuda\" if torch.cuda.is_available() else \"cpu\")\n",
        "print(device)"
      ]
    },
    {
      "cell_type": "code",
      "execution_count": 6,
      "metadata": {
        "id": "GzkNIx2MESZP",
        "colab": {
          "base_uri": "https://localhost:8080/"
        },
        "outputId": "f22fa2d8-8802-4f26-c38e-9777711352cc"
      },
      "outputs": [
        {
          "output_type": "stream",
          "name": "stderr",
          "text": [
            "/usr/local/lib/python3.10/dist-packages/torchvision/models/_utils.py:208: UserWarning: The parameter 'pretrained' is deprecated since 0.13 and may be removed in the future, please use 'weights' instead.\n",
            "  warnings.warn(\n",
            "/usr/local/lib/python3.10/dist-packages/torchvision/models/_utils.py:223: UserWarning: Arguments other than a weight enum or `None` for 'weights' are deprecated since 0.13 and may be removed in the future. The current behavior is equivalent to passing `weights=ResNet18_Weights.IMAGENET1K_V1`. You can also use `weights=ResNet18_Weights.DEFAULT` to get the most up-to-date weights.\n",
            "  warnings.warn(msg)\n",
            "Downloading: \"https://download.pytorch.org/models/resnet18-f37072fd.pth\" to /root/.cache/torch/hub/checkpoints/resnet18-f37072fd.pth\n",
            "100%|██████████| 44.7M/44.7M [00:01<00:00, 40.5MB/s]\n"
          ]
        },
        {
          "output_type": "execute_result",
          "data": {
            "text/plain": [
              "Sequential(\n",
              "  (0): Conv2d(3, 64, kernel_size=(7, 7), stride=(2, 2), padding=(3, 3), bias=False)\n",
              "  (1): BatchNorm2d(64, eps=1e-05, momentum=0.1, affine=True, track_running_stats=True)\n",
              "  (2): ReLU(inplace=True)\n",
              "  (3): MaxPool2d(kernel_size=3, stride=2, padding=1, dilation=1, ceil_mode=False)\n",
              "  (4): Sequential(\n",
              "    (0): BasicBlock(\n",
              "      (conv1): Conv2d(64, 64, kernel_size=(3, 3), stride=(1, 1), padding=(1, 1), bias=False)\n",
              "      (bn1): BatchNorm2d(64, eps=1e-05, momentum=0.1, affine=True, track_running_stats=True)\n",
              "      (relu): ReLU(inplace=True)\n",
              "      (conv2): Conv2d(64, 64, kernel_size=(3, 3), stride=(1, 1), padding=(1, 1), bias=False)\n",
              "      (bn2): BatchNorm2d(64, eps=1e-05, momentum=0.1, affine=True, track_running_stats=True)\n",
              "    )\n",
              "    (1): BasicBlock(\n",
              "      (conv1): Conv2d(64, 64, kernel_size=(3, 3), stride=(1, 1), padding=(1, 1), bias=False)\n",
              "      (bn1): BatchNorm2d(64, eps=1e-05, momentum=0.1, affine=True, track_running_stats=True)\n",
              "      (relu): ReLU(inplace=True)\n",
              "      (conv2): Conv2d(64, 64, kernel_size=(3, 3), stride=(1, 1), padding=(1, 1), bias=False)\n",
              "      (bn2): BatchNorm2d(64, eps=1e-05, momentum=0.1, affine=True, track_running_stats=True)\n",
              "    )\n",
              "  )\n",
              "  (5): Sequential(\n",
              "    (0): BasicBlock(\n",
              "      (conv1): Conv2d(64, 128, kernel_size=(3, 3), stride=(2, 2), padding=(1, 1), bias=False)\n",
              "      (bn1): BatchNorm2d(128, eps=1e-05, momentum=0.1, affine=True, track_running_stats=True)\n",
              "      (relu): ReLU(inplace=True)\n",
              "      (conv2): Conv2d(128, 128, kernel_size=(3, 3), stride=(1, 1), padding=(1, 1), bias=False)\n",
              "      (bn2): BatchNorm2d(128, eps=1e-05, momentum=0.1, affine=True, track_running_stats=True)\n",
              "      (downsample): Sequential(\n",
              "        (0): Conv2d(64, 128, kernel_size=(1, 1), stride=(2, 2), bias=False)\n",
              "        (1): BatchNorm2d(128, eps=1e-05, momentum=0.1, affine=True, track_running_stats=True)\n",
              "      )\n",
              "    )\n",
              "    (1): BasicBlock(\n",
              "      (conv1): Conv2d(128, 128, kernel_size=(3, 3), stride=(1, 1), padding=(1, 1), bias=False)\n",
              "      (bn1): BatchNorm2d(128, eps=1e-05, momentum=0.1, affine=True, track_running_stats=True)\n",
              "      (relu): ReLU(inplace=True)\n",
              "      (conv2): Conv2d(128, 128, kernel_size=(3, 3), stride=(1, 1), padding=(1, 1), bias=False)\n",
              "      (bn2): BatchNorm2d(128, eps=1e-05, momentum=0.1, affine=True, track_running_stats=True)\n",
              "    )\n",
              "  )\n",
              "  (6): Sequential(\n",
              "    (0): BasicBlock(\n",
              "      (conv1): Conv2d(128, 256, kernel_size=(3, 3), stride=(2, 2), padding=(1, 1), bias=False)\n",
              "      (bn1): BatchNorm2d(256, eps=1e-05, momentum=0.1, affine=True, track_running_stats=True)\n",
              "      (relu): ReLU(inplace=True)\n",
              "      (conv2): Conv2d(256, 256, kernel_size=(3, 3), stride=(1, 1), padding=(1, 1), bias=False)\n",
              "      (bn2): BatchNorm2d(256, eps=1e-05, momentum=0.1, affine=True, track_running_stats=True)\n",
              "      (downsample): Sequential(\n",
              "        (0): Conv2d(128, 256, kernel_size=(1, 1), stride=(2, 2), bias=False)\n",
              "        (1): BatchNorm2d(256, eps=1e-05, momentum=0.1, affine=True, track_running_stats=True)\n",
              "      )\n",
              "    )\n",
              "    (1): BasicBlock(\n",
              "      (conv1): Conv2d(256, 256, kernel_size=(3, 3), stride=(1, 1), padding=(1, 1), bias=False)\n",
              "      (bn1): BatchNorm2d(256, eps=1e-05, momentum=0.1, affine=True, track_running_stats=True)\n",
              "      (relu): ReLU(inplace=True)\n",
              "      (conv2): Conv2d(256, 256, kernel_size=(3, 3), stride=(1, 1), padding=(1, 1), bias=False)\n",
              "      (bn2): BatchNorm2d(256, eps=1e-05, momentum=0.1, affine=True, track_running_stats=True)\n",
              "    )\n",
              "  )\n",
              "  (7): Sequential(\n",
              "    (0): BasicBlock(\n",
              "      (conv1): Conv2d(256, 512, kernel_size=(3, 3), stride=(2, 2), padding=(1, 1), bias=False)\n",
              "      (bn1): BatchNorm2d(512, eps=1e-05, momentum=0.1, affine=True, track_running_stats=True)\n",
              "      (relu): ReLU(inplace=True)\n",
              "      (conv2): Conv2d(512, 512, kernel_size=(3, 3), stride=(1, 1), padding=(1, 1), bias=False)\n",
              "      (bn2): BatchNorm2d(512, eps=1e-05, momentum=0.1, affine=True, track_running_stats=True)\n",
              "      (downsample): Sequential(\n",
              "        (0): Conv2d(256, 512, kernel_size=(1, 1), stride=(2, 2), bias=False)\n",
              "        (1): BatchNorm2d(512, eps=1e-05, momentum=0.1, affine=True, track_running_stats=True)\n",
              "      )\n",
              "    )\n",
              "    (1): BasicBlock(\n",
              "      (conv1): Conv2d(512, 512, kernel_size=(3, 3), stride=(1, 1), padding=(1, 1), bias=False)\n",
              "      (bn1): BatchNorm2d(512, eps=1e-05, momentum=0.1, affine=True, track_running_stats=True)\n",
              "      (relu): ReLU(inplace=True)\n",
              "      (conv2): Conv2d(512, 512, kernel_size=(3, 3), stride=(1, 1), padding=(1, 1), bias=False)\n",
              "      (bn2): BatchNorm2d(512, eps=1e-05, momentum=0.1, affine=True, track_running_stats=True)\n",
              "    )\n",
              "  )\n",
              "  (8): AdaptiveAvgPool2d(output_size=(1, 1))\n",
              ")"
            ]
          },
          "metadata": {},
          "execution_count": 6
        }
      ],
      "source": [
        "# We will load a pre-trained model from the torchvision library and use it to extract features from the frames\n",
        "# For this exercise, we will use ResNet-18 but you can use any other model from torchvision\n",
        "resnet = models.resnet18(pretrained = True) #TODO: Load the pre-trained ResNet model and move it to the device\n",
        "device = torch.device(\"cuda\" if torch.cuda.is_available() else \"cpu\")\n",
        "resnet.to(device)\n",
        "# We will use the model to extract the features from the frames, so we don't need the classification layer of the model\n",
        "resnet_feat = nn.Sequential(*list(resnet.children())[:-1])  #TODO: Remove the classification layer from the ResNet model\n",
        "resnet_feat = resnet_feat.to(device)\n",
        "resnet_feat.eval()"
      ]
    },
    {
      "cell_type": "code",
      "execution_count": 7,
      "metadata": {
        "colab": {
          "base_uri": "https://localhost:8080/"
        },
        "id": "BWfDYmxLEUMi",
        "outputId": "df94e2fc-46f2-471a-c740-d8c7449a9176"
      },
      "outputs": [
        {
          "output_type": "stream",
          "name": "stdout",
          "text": [
            "YouTube_DataSet_Annotated/action_youtube_naudio/soccer_juggling\n",
            "YouTube_DataSet_Annotated/action_youtube_naudio/trampoline_jumping\n",
            "YouTube_DataSet_Annotated/action_youtube_naudio/basketball\n",
            "YouTube_DataSet_Annotated/action_youtube_naudio/tennis_swing\n",
            "YouTube_DataSet_Annotated/action_youtube_naudio/walking\n",
            "YouTube_DataSet_Annotated/action_youtube_naudio/golf_swing\n",
            "YouTube_DataSet_Annotated/action_youtube_naudio/volleyball_spiking\n",
            "YouTube_DataSet_Annotated/action_youtube_naudio/biking\n",
            "YouTube_DataSet_Annotated/action_youtube_naudio/diving\n",
            "YouTube_DataSet_Annotated/action_youtube_naudio/swing\n",
            "YouTube_DataSet_Annotated/action_youtube_naudio/horse_riding\n"
          ]
        }
      ],
      "source": [
        "# Create an empty list to store the features and labels\n",
        "samples = []\n",
        "\n",
        "resnet.eval()\n",
        "# Loop over the videos in the dataset folder\n",
        "for label in os.listdir(data_dir):\n",
        "    label_dir = os.path.join(data_dir, label)\n",
        "    print(label_dir)\n",
        "    for sub_dir in os.listdir(label_dir):\n",
        "        if sub_dir == 'Annotation':\n",
        "            continue\n",
        "        video_dir = os.path.join(label_dir, sub_dir)\n",
        "        for video_file in os.listdir(video_dir):\n",
        "            video_path = os.path.join(video_dir, video_file)\n",
        "            cap = cv2.VideoCapture(video_path)\n",
        "            frame_count = 0\n",
        "            frames = []\n",
        "            while True:\n",
        "                ret, frame = cap.read()\n",
        "                if ret:\n",
        "                    frame_count += 1\n",
        "                    frame = cv2.cvtColor(frame, cv2.COLOR_BGR2RGB)\n",
        "                    frame = transform(frame).to(device)\n",
        "                    frames.append(frame)\n",
        "                    if frame_count == num_frames:\n",
        "                        break\n",
        "                else:\n",
        "                    break\n",
        "            cap.release()\n",
        "            if len(frames) == num_frames:\n",
        "                frames_tensor = torch.stack(frames)  # Stack the frames into a tensor of shape (num_frames, 3, 224, 224)\n",
        "                # Extract the features using the pre-trained ResNet-18 model\n",
        "                with torch.no_grad():\n",
        "                    features_tensor = resnet_feat(frames_tensor)\n",
        "                features_tensor = features_tensor.view(features_tensor.size(0), -1)  # Flatten the features tensor\n",
        "                # Convert the features tensor to a numpy array\n",
        "                features = features_tensor.cpu().numpy()\n",
        "                # Append the features and label to the samples list\n",
        "                samples.append((features, label))\n",
        "\n",
        "# Shuffle the samples list\n",
        "np.random.shuffle(samples)\n"
      ]
    },
    {
      "cell_type": "code",
      "execution_count": 8,
      "metadata": {
        "id": "EdgMLHjJEshl"
      },
      "outputs": [],
      "source": [
        "#TODO: Split the samples into training and testing sets\n",
        "split_ratio = 0.8\n",
        "split_idx = int(len(samples) * split_ratio)\n",
        "\n",
        "train_samples = samples[:split_idx]\n",
        "test_samples = samples[split_idx:]"
      ]
    },
    {
      "cell_type": "code",
      "execution_count": 9,
      "metadata": {
        "id": "6KYoxywrE5_z"
      },
      "outputs": [],
      "source": [
        "# Separate the features and labels into separate arrays for training and testing sets\n",
        "train_features, train_labels = zip(*train_samples)\n",
        "test_features, test_labels = zip(*test_samples)"
      ]
    },
    {
      "cell_type": "code",
      "execution_count": 10,
      "metadata": {
        "id": "2fHCMnr9E8qa"
      },
      "outputs": [],
      "source": [
        "# Convert the labels to numerical labels using a LabelEncoder\n",
        "le = LabelEncoder()\n",
        "train_numerical_labels = le.fit_transform(train_labels)\n",
        "test_numerical_labels = le.fit_transform(test_labels)\n",
        "# Convert the features and labels arrays to numpy arrays\n",
        "# Convert the features and labels arrays to numpy arrays\n",
        "train_features = np.array(train_features)\n",
        "train_labels = train_numerical_labels\n",
        "test_features = np.array(test_features)\n",
        "test_labels = test_numerical_labels"
      ]
    },
    {
      "cell_type": "code",
      "execution_count": 11,
      "metadata": {
        "colab": {
          "base_uri": "https://localhost:8080/"
        },
        "id": "F_Nm18pfE_8p",
        "outputId": "375bdfd6-5921-4227-beef-fc514cdd890b"
      },
      "outputs": [
        {
          "output_type": "stream",
          "name": "stdout",
          "text": [
            "Train Features shape: (1319, 15, 512)\n",
            "Train Labels shape: (1319,)\n",
            "Test Features shape: (330, 15, 512)\n",
            "Test Labels shape: (330,)\n"
          ]
        }
      ],
      "source": [
        "# Print the shapes of the features and labels arrays\n",
        "print(\"Train Features shape:\", train_features.shape)\n",
        "print(\"Train Labels shape:\", train_labels.shape)\n",
        "print(\"Test Features shape:\", test_features.shape)\n",
        "print(\"Test Labels shape:\", test_labels.shape)"
      ]
    },
    {
      "cell_type": "code",
      "execution_count": 12,
      "metadata": {
        "id": "8MLUWBeDFBdi"
      },
      "outputs": [],
      "source": [
        "# Save the features and labels to numpy arrays\n",
        "np.save('train_features.npy', train_features)\n",
        "np.save('train_labels.npy', train_labels)\n",
        "np.save('test_features.npy', test_features)\n",
        "np.save('test_labels.npy', test_labels)"
      ]
    },
    {
      "cell_type": "code",
      "execution_count": 13,
      "metadata": {
        "id": "ZStJVdi6Ffda"
      },
      "outputs": [],
      "source": [
        "# Define the LSTM model\n",
        "class LSTMClassifier(nn.Module):\n",
        "    def __init__(self, input_size, hidden_size, num_classes):\n",
        "        super().__init__()\n",
        "        self.hidden_size = hidden_size\n",
        "        self.lstm = nn.LSTM(input_size, hidden_size, batch_first=True)\n",
        "        self.fc = nn.Linear(hidden_size, num_classes)\n",
        "\n",
        "    def forward(self, x):\n",
        "        # Initialize hidden state and cell state with zeros\n",
        "        h0 = torch.zeros(1, x.size(0), self.hidden_size).to(x.device)\n",
        "        c0 = torch.zeros(1, x.size(0), self.hidden_size).to(x.device)\n",
        "\n",
        "        # Forward propagate LSTM\n",
        "        out, _ = self.lstm(x, (h0, c0))\n",
        "        # Decode the hidden state of the last time step\n",
        "        out = self.fc(out[:, -1, :])\n",
        "        out = nn.functional.softmax(out, dim=1)\n",
        "        return out\n"
      ]
    },
    {
      "cell_type": "code",
      "execution_count": 14,
      "metadata": {
        "id": "Rt7HvQc-HKTJ"
      },
      "outputs": [],
      "source": [
        "class MultiLayerBiLSTMClassifier(nn.Module):\n",
        "    def __init__(self, input_size, hidden_size, num_layers, num_classes):\n",
        "        super().__init__()\n",
        "        self.hidden_size = hidden_size\n",
        "        self.num_layers = num_layers\n",
        "        self.lstm = nn.LSTM(input_size, hidden_size, num_layers, bidirectional=True, batch_first=True)\n",
        "        self.fc = nn.Linear(hidden_size * 2, num_classes)  # *2 for bidirectional output\n",
        "\n",
        "    def forward(self, x):\n",
        "        # Initialize hidden state and cell state with zeros\n",
        "        h0 = torch.zeros(2 * self.num_layers, x.size(0), self.hidden_size).to(x.device)  # *2 for bidirectional LSTM\n",
        "        c0 = torch.zeros(2 * self.num_layers, x.size(0), self.hidden_size).to(x.device)  # *2 for bidirectional LSTM\n",
        "\n",
        "        # Forward propagate LSTM\n",
        "        out, _ = self.lstm(x, (h0, c0))\n",
        "        # Decode the hidden state of the last time step\n",
        "        out = self.fc(out[:, -1, :])\n",
        "        out = nn.functional.softmax(out, dim=1)\n",
        "        return out\n"
      ]
    },
    {
      "cell_type": "code",
      "execution_count": 15,
      "metadata": {
        "id": "GQCy_xemHPO8"
      },
      "outputs": [],
      "source": [
        "# Load the features and labels from numpy arrays\n",
        "train_features = torch.from_numpy(np.load('train_features.npy')).float()\n",
        "train_labels = torch.from_numpy(np.load('train_labels.npy'))#.long()\n",
        "idx = np.random.permutation(len(train_features))\n",
        "train_features, train_labels = train_features[idx], train_labels[idx]\n",
        "\n",
        "test_features = torch.from_numpy(np.load('test_features.npy')).float()\n",
        "test_labels = torch.from_numpy(np.load('test_labels.npy'))#.long()"
      ]
    },
    {
      "cell_type": "code",
      "execution_count": 28,
      "metadata": {
        "id": "iQ3qJDVIrp2G"
      },
      "outputs": [],
      "source": [
        "# Complete the LSTM parameters\n",
        "input_size = train_features.shape[2]  # Feature size from ResNet output\n",
        "hidden_size = 128\n",
        "num_classes = len(np.unique(train_labels))  # Number of unique classes in labels\n",
        "num_frames = 15\n",
        "num_layers = 2"
      ]
    },
    {
      "cell_type": "code",
      "execution_count": 29,
      "metadata": {
        "id": "apriDhFeHYC5"
      },
      "outputs": [],
      "source": [
        "# Define the training parameters\n",
        "lr = 0.0001\n",
        "num_epochs = 10\n",
        "train_losses = []\n",
        "train_accuracies = []\n",
        "test_losses = []\n",
        "test_accuracies = []"
      ]
    },
    {
      "cell_type": "code",
      "execution_count": 34,
      "metadata": {
        "id": "9ERHef_drp2H"
      },
      "outputs": [],
      "source": [
        "# Instantiate the LSTM model (you can choose either LSTMClassifier or MultiLayerBiLSTMClassifier)\n",
        "model = LSTMClassifier(input_size, hidden_size, num_classes)\n",
        "# Or\n",
        "# model = MultiLayerBiLSTMClassifier(input_size, hidden_size, num_layers, num_classes)\n"
      ]
    },
    {
      "cell_type": "code",
      "execution_count": 35,
      "metadata": {
        "id": "2BXYeDngHUb8"
      },
      "outputs": [],
      "source": [
        "# Define the loss function and optimizer\n",
        "criterion = nn.CrossEntropyLoss()\n",
        "optimizer = optim.Adam(model.parameters(), lr=lr)"
      ]
    },
    {
      "cell_type": "code",
      "execution_count": 36,
      "metadata": {
        "colab": {
          "base_uri": "https://localhost:8080/"
        },
        "id": "SrK8dglQHVa0",
        "outputId": "9b06c92a-89ef-412d-8043-67750571dde9"
      },
      "outputs": [
        {
          "output_type": "stream",
          "name": "stdout",
          "text": [
            "Epoch [1/10], Train Loss: 0.1584, Train Accuracy: 35.86%, Test Loss: 0.1554, Test Accuracy: 50.00%\n",
            "Epoch [2/10], Train Loss: 0.1494, Train Accuracy: 57.70%, Test Loss: 0.1426, Test Accuracy: 58.79%\n",
            "Epoch [3/10], Train Loss: 0.1375, Train Accuracy: 64.75%, Test Loss: 0.1346, Test Accuracy: 65.76%\n",
            "Epoch [4/10], Train Loss: 0.1307, Train Accuracy: 71.72%, Test Loss: 0.1300, Test Accuracy: 74.24%\n",
            "Epoch [5/10], Train Loss: 0.1259, Train Accuracy: 78.85%, Test Loss: 0.1265, Test Accuracy: 76.97%\n",
            "Epoch [6/10], Train Loss: 0.1223, Train Accuracy: 81.80%, Test Loss: 0.1238, Test Accuracy: 80.00%\n",
            "Epoch [7/10], Train Loss: 0.1195, Train Accuracy: 84.69%, Test Loss: 0.1213, Test Accuracy: 83.33%\n",
            "Epoch [8/10], Train Loss: 0.1171, Train Accuracy: 87.57%, Test Loss: 0.1191, Test Accuracy: 86.67%\n",
            "Epoch [9/10], Train Loss: 0.1149, Train Accuracy: 90.14%, Test Loss: 0.1172, Test Accuracy: 89.39%\n",
            "Epoch [10/10], Train Loss: 0.1131, Train Accuracy: 92.72%, Test Loss: 0.1157, Test Accuracy: 91.52%\n"
          ]
        }
      ],
      "source": [
        "# Train the LSTM model\n",
        "num_epochs = 10\n",
        "train_losses = []\n",
        "train_accuracies = []\n",
        "test_losses = []\n",
        "test_accuracies = []\n",
        "\n",
        "device = torch.device(\"cuda\" if torch.cuda.is_available() else \"cpu\")\n",
        "model = model.to(device)\n",
        "criterion = criterion.to(device)\n",
        "\n",
        "for epoch in range(num_epochs):\n",
        "    # Training\n",
        "    model.train()\n",
        "    train_loss = 0.0\n",
        "    train_total = 0\n",
        "    train_correct = 0\n",
        "    for i in range(0, len(train_features), num_frames):\n",
        "        # Get a batch of 15 frames features and labels\n",
        "        batch_features = train_features[i:i+num_frames].to(device)\n",
        "        batch_labels = train_labels[i:i+num_frames].to(device)\n",
        "\n",
        "        # Zero the parameter gradients\n",
        "        optimizer.zero_grad()\n",
        "\n",
        "        # Forward pass\n",
        "        outputs = model(batch_features)\n",
        "\n",
        "        # Reshape batch_labels to match outputs if needed\n",
        "        batch_labels = batch_labels.view(-1)  # Reshape to (batch_size,)\n",
        "\n",
        "        # Calculate loss\n",
        "        loss = criterion(outputs, batch_labels)\n",
        "\n",
        "        # Backward pass and optimize\n",
        "        loss.backward()\n",
        "        optimizer.step()\n",
        "\n",
        "        # Accumulate training loss and accuracy\n",
        "        train_loss += loss.item()\n",
        "        _, predicted = torch.max(outputs, 1)\n",
        "        train_total += batch_labels.size(0)\n",
        "        train_correct += (predicted == batch_labels).sum().item()\n",
        "\n",
        "    train_loss /= train_total\n",
        "    train_accuracy = 100 * train_correct / train_total\n",
        "    train_losses.append(train_loss)\n",
        "    train_accuracies.append(train_accuracy)\n",
        "\n",
        "    # Testing\n",
        "    model.eval()\n",
        "    test_loss = 0.0\n",
        "    test_total = 0\n",
        "    test_correct = 0\n",
        "    with torch.no_grad():\n",
        "        for i in range(0, len(test_features), num_frames):\n",
        "            # Get a batch of 15 frames features and labels\n",
        "            batch_features = test_features[i:i+num_frames].to(device)\n",
        "            batch_labels = test_labels[i:i+num_frames].to(device)\n",
        "\n",
        "            # Forward pass\n",
        "            outputs = model(batch_features)\n",
        "\n",
        "            # Reshape batch_labels to match outputs if needed\n",
        "            batch_labels = batch_labels.view(-1)  # Reshape to (batch_size,)\n",
        "\n",
        "            # Calculate loss\n",
        "            loss = criterion(outputs, batch_labels)\n",
        "\n",
        "            # Accumulate testing loss and accuracy\n",
        "            test_loss += loss.item()\n",
        "            _, predicted = torch.max(outputs, 1)\n",
        "            test_total += batch_labels.size(0)\n",
        "            test_correct += (predicted == batch_labels).sum().item()\n",
        "\n",
        "        test_loss /= test_total\n",
        "        test_accuracy = 100 * test_correct / test_total\n",
        "        test_losses.append(test_loss)\n",
        "        test_accuracies.append(test_accuracy)\n",
        "\n",
        "    # Print training and testing results for each epoch\n",
        "    print('Epoch [{}/{}], Train Loss: {:.4f}, Train Accuracy: {:.2f}%, Test Loss: {:.4f}, Test Accuracy: {:.2f}%'\n",
        "          .format(epoch + 1, num_epochs, train_loss, train_accuracy, test_loss, test_accuracy))\n"
      ]
    },
    {
      "cell_type": "code",
      "execution_count": 37,
      "metadata": {
        "colab": {
          "base_uri": "https://localhost:8080/",
          "height": 465
        },
        "id": "7F8BQjtsHoLr",
        "outputId": "7189fdb0-34ee-4dbb-fb56-1413fdd99ec0"
      },
      "outputs": [
        {
          "output_type": "display_data",
          "data": {
            "text/plain": [
              "<Figure size 1000x500 with 2 Axes>"
            ],
            "image/png": "[encoded data removed]"
          },
          "metadata": {}
        }
      ],
      "source": [
        "# Plot training and testing losses and accuracies\n",
        "plt.figure(figsize=(10, 5))\n",
        "plt.subplot(1, 2, 1)\n",
        "plt.plot(train_losses, label='Training Loss')\n",
        "plt.plot(test_losses, label='Testing Loss')\n",
        "plt.xlabel('Epoch')\n",
        "plt.ylabel('Loss')\n",
        "plt.legend()\n",
        "plt.subplot(1, 2, 2)\n",
        "plt.plot(train_accuracies, label='Training Accuracy')\n",
        "plt.plot(test_accuracies, label='Testing Accuracy')\n",
        "plt.xlabel('Epoch')\n",
        "plt.ylabel('Accuracy')\n",
        "plt.legend()\n",
        "plt.show()"
      ]
    },
    {
      "cell_type": "code",
      "execution_count": 37,
      "metadata": {
        "id": "3tH5HOg9rp2I"
      },
      "outputs": [],
      "source": []
    }
  ],
  "metadata": {
    "accelerator": "GPU",
    "colab": {
      "gpuType": "T4",
      "provenance": [],
      "include_colab_link": true
    },
    "kernelspec": {
      "display_name": "Python 3",
      "name": "python3"
    },
    "language_info": {
      "codemirror_mode": {
        "name": "ipython",
        "version": 3
      },
      "file_extension": ".py",
      "mimetype": "text/x-python",
      "name": "python",
      "nbconvert_exporter": "python",
      "pygments_lexer": "ipython3",
      "version": "3.10.0"
    }
  },
  "nbformat": 4,
  "nbformat_minor": 0
}